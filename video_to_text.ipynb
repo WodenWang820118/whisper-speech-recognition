{
 "cells": [
  {
   "cell_type": "code",
   "execution_count": null,
   "metadata": {},
   "outputs": [],
   "source": [
    "import subprocess\n",
    "import os\n",
    "import whisper\n",
    "import re"
   ]
  },
  {
   "cell_type": "code",
   "execution_count": null,
   "metadata": {},
   "outputs": [],
   "source": [
    "model = whisper.load_model(\"base\")"
   ]
  },
  {
   "cell_type": "code",
   "execution_count": null,
   "metadata": {},
   "outputs": [],
   "source": [
    "def audioToText(model: whisper, audio) -> str:\n",
    "    # load audio and pad/trim it to fit 30 seconds\n",
    "    audio = whisper.load_audio(audio)\n",
    "    audio = whisper.pad_or_trim(audio)\n",
    "\n",
    "    # make log-Mel spectrogram and move to the same device as the model\n",
    "    mel = whisper.log_mel_spectrogram(audio).to(model.device)\n",
    "\n",
    "    # detect the spoken language\n",
    "    _, probs = model.detect_language(mel)\n",
    "    # print(f\"Detected language: {max(probs, key=probs.get)}\")\n",
    "\n",
    "    # decode the audio\n",
    "    options = whisper.DecodingOptions(fp16 = False)\n",
    "    result = whisper.decode(model, mel, options)\n",
    "\n",
    "    # print the recognized text\n",
    "    return result.text"
   ]
  },
  {
   "cell_type": "code",
   "execution_count": null,
   "metadata": {},
   "outputs": [],
   "source": [
    "def videoToText(input_video_path: str = 'raw_video', output_audio_path: str = 'mp3', output_text_path: str = \"text\") -> None:\n",
    "    if (os.path.exists(output_audio_path) == False):\n",
    "        os.mkdir(output_audio_path)\n",
    "    if (os.path.exists(output_text_path) == False):\n",
    "        os.mkdir(output_text_path)\n",
    "\n",
    "    # 1) iterate through all the mp4 files in the folder and segment them into 30 seconds audios\n",
    "    for file in os.listdir(input_video_path):\n",
    "        if file.endswith(\".mp4\"):\n",
    "            # get the file name\n",
    "            file_name = file.split(\".\")[0]\n",
    "            # get the file path with os.getcwd()\n",
    "            file_path = os.getcwd() + \"/\" + input_video_path + \"/\" + file_name + \".mp4\"\n",
    "            # output .mp3 file\n",
    "            output_file = file_name + \".mp3\"\n",
    "            # convert the video to audio\n",
    "            subprocess.run([\"ffmpeg\", \"-i\", file_path, output_audio_path + '//' + output_file], shell=True)\n",
    "            # segment the audio\n",
    "            subprocess.run([\"ffmpeg\", \"-i\", output_audio_path + '//' + output_file, \"-f\", \"segment\", \"-segment_time\", \"30\", \"-c\", \"copy\", output_audio_path + '//' + file_name + \"_%03d.mp3\"], shell=True)\n",
    "\n",
    "    # 2) iterate through all the mp3 files in the folder and convert them to text\n",
    "    for file in os.listdir(output_audio_path):\n",
    "        if file.endswith(\".mp3\"):\n",
    "            # get the file name\n",
    "            file_name = file.split(\".\")[0]\n",
    "            # get the file path with os.getcwd()\n",
    "            file_path = os.getcwd() + \"/\" + output_audio_path + \"/\" + file_name + \".mp3\"\n",
    "            # convert the audio to text\n",
    "            text = audioToText(model, file_path)\n",
    "            # write the text to a file\n",
    "            with open(output_text_path + \"/\" + file_name + \".txt\", \"w\") as f:\n",
    "                f.write(text)"
   ]
  },
  {
   "cell_type": "code",
   "execution_count": null,
   "metadata": {},
   "outputs": [],
   "source": [
    "def getFileName(file_path: str = 'raw_video') -> list:\n",
    "    file_name_list = []\n",
    "    for file in os.listdir(file_path):\n",
    "        if file.endswith(\".mp4\"):\n",
    "            file_name = file.split(\".\")[0]\n",
    "            file_name_list.append(file_name)\n",
    "    return file_name_list"
   ]
  },
  {
   "cell_type": "code",
   "execution_count": null,
   "metadata": {},
   "outputs": [],
   "source": [
    "def recordFileName(file_path: str = 'raw_video') -> None:\n",
    "    file_name_list = getFileName(file_path)\n",
    "    with open(\"record.txt\", \"w\") as f:\n",
    "        for file_name in file_name_list:\n",
    "            f.write(file_name + \"\\n\")"
   ]
  },
  {
   "cell_type": "code",
   "execution_count": null,
   "metadata": {},
   "outputs": [],
   "source": [
    "def combineTextFiles(fileNameRecords: str = 'record.txt', input_text_path: str = \"text\", output_text_path: str = \"result_text\") -> None:\n",
    "   # read record.txt and group the file text as one\n",
    "    with open(fileNameRecords, \"r\") as f:\n",
    "        file_name_list = f.read().splitlines()\n",
    "        for file_name in file_name_list:\n",
    "            # match all text files with the same file name using regex\n",
    "            file_name_pattern = file_name + \"_\\d{3}.txt\"\n",
    "            # get all the text files with the same file name\n",
    "            file_name_list = [file for file in os.listdir(input_text_path) if re.match(file_name_pattern, file)]\n",
    "            # sort the file name list\n",
    "            file_name_list.sort()\n",
    "            # concatenate the text files\n",
    "            with open(output_text_path + \"/\" + file_name + \".txt\", \"w\") as f:\n",
    "                for file in file_name_list:\n",
    "                    with open(input_text_path + \"/\" + file, \"r\") as f1:\n",
    "                        f.write(f1.read() + \"\\n\")"
   ]
  },
  {
   "cell_type": "code",
   "execution_count": null,
   "metadata": {},
   "outputs": [],
   "source": [
    "# 1) record the file name for regex matching later\n",
    "recordFileName()\n",
    "# 2) convert the video to text based on the 30 seconds segmentation\n",
    "videoToText()\n",
    "# 3) combine the text files into one according the recorded file name\n",
    "combineTextFiles()"
   ]
  }
 ],
 "metadata": {
  "kernelspec": {
   "display_name": "Python 3",
   "language": "python",
   "name": "python3"
  },
  "language_info": {
   "codemirror_mode": {
    "name": "ipython",
    "version": 3
   },
   "file_extension": ".py",
   "mimetype": "text/x-python",
   "name": "python",
   "nbconvert_exporter": "python",
   "pygments_lexer": "ipython3",
   "version": "3.9.13"
  },
  "orig_nbformat": 4
 },
 "nbformat": 4,
 "nbformat_minor": 2
}
